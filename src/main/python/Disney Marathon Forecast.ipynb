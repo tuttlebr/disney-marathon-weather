{
 "cells": [
  {
   "cell_type": "code",
   "execution_count": null,
   "id": "a88c3533-5cf2-4e98-8931-240555e74917",
   "metadata": {},
   "outputs": [],
   "source": [
    "from forecast import forecast"
   ]
  },
  {
   "cell_type": "code",
   "execution_count": null,
   "id": "0efa1501-4098-4664-a81e-a5b0516c3688",
   "metadata": {},
   "outputs": [],
   "source": [
    "forecast = forecast()"
   ]
  },
  {
   "cell_type": "code",
   "execution_count": null,
   "id": "5373af5f-7f38-411e-b1b9-d0b666822f4c",
   "metadata": {},
   "outputs": [],
   "source": [
    "manifest[\"TMAX\"][\"plot\"]"
   ]
  },
  {
   "cell_type": "code",
   "execution_count": null,
   "id": "84d9013f-967b-4f31-b668-e61d214a5018",
   "metadata": {},
   "outputs": [],
   "source": [
    "manifest[\"TMIN\"][\"plot\"]"
   ]
  }
 ],
 "metadata": {
  "kernelspec": {
   "display_name": "Python 3 (ipykernel)",
   "language": "python",
   "name": "python3"
  },
  "language_info": {
   "codemirror_mode": {
    "name": "ipython",
    "version": 3
   },
   "file_extension": ".py",
   "mimetype": "text/x-python",
   "name": "python",
   "nbconvert_exporter": "python",
   "pygments_lexer": "ipython3",
   "version": "3.8.12"
  }
 },
 "nbformat": 4,
 "nbformat_minor": 5
}
